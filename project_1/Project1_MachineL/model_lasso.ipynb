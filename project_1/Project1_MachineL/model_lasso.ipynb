{
 "cells": [
  {
   "cell_type": "code",
   "execution_count": 96,
   "metadata": {},
   "outputs": [],
   "source": [
    "import pandas as pd\n",
    "import numpy as np\n",
    "import seaborn as sns\n",
    "import matplotlib.pyplot as plt\n",
    "from sklearn.model_selection import train_test_split"
   ]
  },
  {
   "cell_type": "markdown",
   "metadata": {},
   "source": [
    "# Función de Predicción\n",
    "\n",
    "$h(x_i) = x_i \\cdot w^t $\n",
    "\n",
    "$h(X) = XW^t$ "
   ]
  },
  {
   "cell_type": "code",
   "execution_count": 64,
   "metadata": {},
   "outputs": [],
   "source": [
    "def h(X, W):\n",
    "    return np.dot(X, W)"
   ]
  },
  {
   "cell_type": "markdown",
   "metadata": {},
   "source": [
    "# Loss Function Lasso\n",
    "\n",
    "$\\mathcal{L} = ||y - h(X)||_2^2 + \\lambda ||W||_1$\n",
    "\n",
    "$\\mathcal{L} = \\sum_{i=1}^{n} (y_i - \\hat{y}_i)^2 + \\lambda \\sum_{j=0}^{p} |w_j|$"
   ]
  },
  {
   "cell_type": "code",
   "execution_count": 67,
   "metadata": {},
   "outputs": [],
   "source": [
    "def loss_lasso(X, W, Y, lamda):\n",
    "    \n",
    "    mse_term = np.linalg.norm(Y - h(X, W))**2 / (2 * len(Y))\n",
    "    \n",
    "    \n",
    "    lasso_term = lamda * np.sum(np.abs(W))\n",
    "    \n",
    " \n",
    "    total_loss = mse_term + lasso_term\n",
    "    \n",
    "    return total_loss\n"
   ]
  },
  {
   "cell_type": "markdown",
   "metadata": {},
   "source": [
    "## Derivadas Lasso\n",
    "\n",
    "$\\frac{\\partial \\mathcal{L}}{\\partial W_{ij}} = 2 \\sum_{i=1}^{n} (y_i - \\hat{y}i) (-x_i) + \\lambda \\cdot \\sum{j=0}^{p} \\frac{w_j}{|w_j|} $"
   ]
  },
  {
   "cell_type": "code",
   "execution_count": 109,
   "metadata": {},
   "outputs": [],
   "source": [
    "def derivates_lasso(X, W, Y, lamda):\n",
    "    \n",
    "    mse_term = np.matmul((np.asarray(Y) - h(X, W)).T, -np.asarray(X)) / len(Y)\n",
    "\n",
    "   \n",
    "\n",
    "    \n",
    " \n",
    "    lasso_term = (2 * lamda / len(Y)) * np.sign(W)\n",
    "    \n",
    "   \n",
    "    total_derivative = mse_term + lasso_term\n",
    "    \n",
    "    return total_derivative\n"
   ]
  },
  {
   "cell_type": "markdown",
   "metadata": {},
   "source": [
    "# Actualización pesos"
   ]
  },
  {
   "cell_type": "code",
   "execution_count": 69,
   "metadata": {},
   "outputs": [],
   "source": [
    "def update(W, alpha, dW):\n",
    "    return W - alpha * dW"
   ]
  },
  {
   "cell_type": "code",
   "execution_count": 110,
   "metadata": {},
   "outputs": [],
   "source": [
    "def train(X, Y, epochs, alfa, lam):\n",
    "    \n",
    "    W = np.random.randn(X.shape[1])*0.01\n",
    "    \n",
    "    \n",
    "    loss_values = []\n",
    "    \n",
    "   \n",
    "    for i in range(epochs):\n",
    "       \n",
    "        Y_aprox = h(X, W)\n",
    "        \n",
    "       \n",
    "        dW = derivates_lasso(X, W, Y, lam)\n",
    "        W = update(W, alfa, dW)\n",
    "        \n",
    "       \n",
    "        L = loss_lasso(X, W, Y, lam)\n",
    "        loss_values.append(L)\n",
    "      \n",
    "        if i % 1000 == 0:\n",
    "            print(\"Loss value at epoch {}: {}\".format(i, L))\n",
    "    \n",
    "    return W, loss_values\n"
   ]
  },
  {
   "cell_type": "code",
   "execution_count": 111,
   "metadata": {},
   "outputs": [],
   "source": [
    "d_train =  pd.read_csv(\"train_final.csv\")\n"
   ]
  },
  {
   "cell_type": "code",
   "execution_count": 112,
   "metadata": {},
   "outputs": [
    {
     "name": "stdout",
     "output_type": "stream",
     "text": [
      "[1 2]\n",
      "['3.PRODUCTO' '2.PROYECTO']\n"
     ]
    }
   ],
   "source": [
    "tipos_unicos = d_train['TIPO_PROD_PROY'].unique()\n",
    "mapeo = {tipo: indice + 1 for indice, tipo in enumerate(tipos_unicos)}\n",
    "d_train['TIPO_PROD_PROY_NUM'] = d_train['TIPO_PROD_PROY'].map(mapeo)\n",
    "\n",
    "print(d_train['TIPO_PROD_PROY_NUM'].unique())\n",
    "print(tipos_unicos)"
   ]
  },
  {
   "cell_type": "code",
   "execution_count": 113,
   "metadata": {},
   "outputs": [
    {
     "name": "stdout",
     "output_type": "stream",
     "text": [
      "[1 2]\n",
      "['5.ACTIVIDAD' '6.ACCION DE INVERSION']\n"
     ]
    }
   ],
   "source": [
    "tipos_unicos = d_train['TIPO_ACT_OBRA_ACCINV'].unique()\n",
    "mapeo = {tipo: indice + 1 for indice, tipo in enumerate(tipos_unicos)}\n",
    "d_train['TIPO_ACT_OBRA_ACCINV_NUM'] = d_train['TIPO_ACT_OBRA_ACCINV'].map(mapeo)\n",
    "\n",
    "print(d_train['TIPO_ACT_OBRA_ACCINV_NUM'].unique())\n",
    "print(tipos_unicos)"
   ]
  },
  {
   "cell_type": "code",
   "execution_count": 114,
   "metadata": {},
   "outputs": [
    {
     "name": "stdout",
     "output_type": "stream",
     "text": [
      "[1 2]\n",
      "['5.GASTOS CORRIENTES' '6.GASTOS DE CAPITAL']\n"
     ]
    }
   ],
   "source": [
    "tipos_unicos = d_train['CATEGORIA_GASTO'].unique()\n",
    "mapeo = {tipo: indice + 1 for indice, tipo in enumerate(tipos_unicos)}\n",
    "d_train['CATEGORIA_GASTO_NUM'] = d_train['CATEGORIA_GASTO'].map(mapeo)\n",
    "\n",
    "print(d_train['CATEGORIA_GASTO_NUM'].unique())\n",
    "print(tipos_unicos)"
   ]
  },
  {
   "cell_type": "code",
   "execution_count": 115,
   "metadata": {},
   "outputs": [
    {
     "data": {
      "text/html": [
       "<div>\n",
       "<style scoped>\n",
       "    .dataframe tbody tr th:only-of-type {\n",
       "        vertical-align: middle;\n",
       "    }\n",
       "\n",
       "    .dataframe tbody tr th {\n",
       "        vertical-align: top;\n",
       "    }\n",
       "\n",
       "    .dataframe thead th {\n",
       "        text-align: right;\n",
       "    }\n",
       "</style>\n",
       "<table border=\"1\" class=\"dataframe\">\n",
       "  <thead>\n",
       "    <tr style=\"text-align: right;\">\n",
       "      <th></th>\n",
       "      <th>TIPO_PROD_PROY_NUM</th>\n",
       "      <th>TIPO_ACT_OBRA_ACCINV_NUM</th>\n",
       "      <th>META</th>\n",
       "      <th>CANT_META_ANUAL</th>\n",
       "      <th>CANT_META_SEM</th>\n",
       "      <th>AVAN_FISICO_ANUAL</th>\n",
       "      <th>AVAN_FISICO_SEM</th>\n",
       "      <th>SEC_FUNC</th>\n",
       "      <th>CATEGORIA_GASTO_NUM</th>\n",
       "      <th>MTO_PIA</th>\n",
       "    </tr>\n",
       "  </thead>\n",
       "  <tbody>\n",
       "    <tr>\n",
       "      <th>0</th>\n",
       "      <td>1</td>\n",
       "      <td>1</td>\n",
       "      <td>6</td>\n",
       "      <td>0</td>\n",
       "      <td>6</td>\n",
       "      <td>0</td>\n",
       "      <td>6</td>\n",
       "      <td>9</td>\n",
       "      <td>1</td>\n",
       "      <td>0</td>\n",
       "    </tr>\n",
       "    <tr>\n",
       "      <th>1</th>\n",
       "      <td>1</td>\n",
       "      <td>1</td>\n",
       "      <td>20</td>\n",
       "      <td>0</td>\n",
       "      <td>6</td>\n",
       "      <td>0</td>\n",
       "      <td>6</td>\n",
       "      <td>23</td>\n",
       "      <td>1</td>\n",
       "      <td>805</td>\n",
       "    </tr>\n",
       "    <tr>\n",
       "      <th>2</th>\n",
       "      <td>1</td>\n",
       "      <td>1</td>\n",
       "      <td>4</td>\n",
       "      <td>0</td>\n",
       "      <td>16</td>\n",
       "      <td>0</td>\n",
       "      <td>16</td>\n",
       "      <td>41</td>\n",
       "      <td>1</td>\n",
       "      <td>0</td>\n",
       "    </tr>\n",
       "    <tr>\n",
       "      <th>3</th>\n",
       "      <td>1</td>\n",
       "      <td>1</td>\n",
       "      <td>1</td>\n",
       "      <td>0</td>\n",
       "      <td>6</td>\n",
       "      <td>0</td>\n",
       "      <td>6</td>\n",
       "      <td>4</td>\n",
       "      <td>1</td>\n",
       "      <td>0</td>\n",
       "    </tr>\n",
       "    <tr>\n",
       "      <th>4</th>\n",
       "      <td>1</td>\n",
       "      <td>1</td>\n",
       "      <td>7</td>\n",
       "      <td>0</td>\n",
       "      <td>6</td>\n",
       "      <td>0</td>\n",
       "      <td>6</td>\n",
       "      <td>10</td>\n",
       "      <td>1</td>\n",
       "      <td>8816</td>\n",
       "    </tr>\n",
       "    <tr>\n",
       "      <th>...</th>\n",
       "      <td>...</td>\n",
       "      <td>...</td>\n",
       "      <td>...</td>\n",
       "      <td>...</td>\n",
       "      <td>...</td>\n",
       "      <td>...</td>\n",
       "      <td>...</td>\n",
       "      <td>...</td>\n",
       "      <td>...</td>\n",
       "      <td>...</td>\n",
       "    </tr>\n",
       "    <tr>\n",
       "      <th>1459</th>\n",
       "      <td>1</td>\n",
       "      <td>1</td>\n",
       "      <td>21</td>\n",
       "      <td>0</td>\n",
       "      <td>0</td>\n",
       "      <td>0</td>\n",
       "      <td>0</td>\n",
       "      <td>58</td>\n",
       "      <td>1</td>\n",
       "      <td>12779</td>\n",
       "    </tr>\n",
       "    <tr>\n",
       "      <th>1460</th>\n",
       "      <td>1</td>\n",
       "      <td>1</td>\n",
       "      <td>17</td>\n",
       "      <td>0</td>\n",
       "      <td>0</td>\n",
       "      <td>0</td>\n",
       "      <td>0</td>\n",
       "      <td>54</td>\n",
       "      <td>1</td>\n",
       "      <td>180</td>\n",
       "    </tr>\n",
       "    <tr>\n",
       "      <th>1461</th>\n",
       "      <td>1</td>\n",
       "      <td>1</td>\n",
       "      <td>3</td>\n",
       "      <td>0</td>\n",
       "      <td>0</td>\n",
       "      <td>0</td>\n",
       "      <td>0</td>\n",
       "      <td>40</td>\n",
       "      <td>1</td>\n",
       "      <td>31447</td>\n",
       "    </tr>\n",
       "    <tr>\n",
       "      <th>1462</th>\n",
       "      <td>1</td>\n",
       "      <td>1</td>\n",
       "      <td>19</td>\n",
       "      <td>0</td>\n",
       "      <td>0</td>\n",
       "      <td>0</td>\n",
       "      <td>0</td>\n",
       "      <td>56</td>\n",
       "      <td>1</td>\n",
       "      <td>2250</td>\n",
       "    </tr>\n",
       "    <tr>\n",
       "      <th>1463</th>\n",
       "      <td>1</td>\n",
       "      <td>1</td>\n",
       "      <td>9</td>\n",
       "      <td>0</td>\n",
       "      <td>0</td>\n",
       "      <td>0</td>\n",
       "      <td>0</td>\n",
       "      <td>46</td>\n",
       "      <td>1</td>\n",
       "      <td>5569</td>\n",
       "    </tr>\n",
       "  </tbody>\n",
       "</table>\n",
       "<p>1464 rows × 10 columns</p>\n",
       "</div>"
      ],
      "text/plain": [
       "      TIPO_PROD_PROY_NUM  TIPO_ACT_OBRA_ACCINV_NUM  META  CANT_META_ANUAL  \\\n",
       "0                      1                         1     6                0   \n",
       "1                      1                         1    20                0   \n",
       "2                      1                         1     4                0   \n",
       "3                      1                         1     1                0   \n",
       "4                      1                         1     7                0   \n",
       "...                  ...                       ...   ...              ...   \n",
       "1459                   1                         1    21                0   \n",
       "1460                   1                         1    17                0   \n",
       "1461                   1                         1     3                0   \n",
       "1462                   1                         1    19                0   \n",
       "1463                   1                         1     9                0   \n",
       "\n",
       "      CANT_META_SEM  AVAN_FISICO_ANUAL  AVAN_FISICO_SEM  SEC_FUNC  \\\n",
       "0                 6                  0                6         9   \n",
       "1                 6                  0                6        23   \n",
       "2                16                  0               16        41   \n",
       "3                 6                  0                6         4   \n",
       "4                 6                  0                6        10   \n",
       "...             ...                ...              ...       ...   \n",
       "1459              0                  0                0        58   \n",
       "1460              0                  0                0        54   \n",
       "1461              0                  0                0        40   \n",
       "1462              0                  0                0        56   \n",
       "1463              0                  0                0        46   \n",
       "\n",
       "      CATEGORIA_GASTO_NUM  MTO_PIA  \n",
       "0                       1        0  \n",
       "1                       1      805  \n",
       "2                       1        0  \n",
       "3                       1        0  \n",
       "4                       1     8816  \n",
       "...                   ...      ...  \n",
       "1459                    1    12779  \n",
       "1460                    1      180  \n",
       "1461                    1    31447  \n",
       "1462                    1     2250  \n",
       "1463                    1     5569  \n",
       "\n",
       "[1464 rows x 10 columns]"
      ]
     },
     "execution_count": 115,
     "metadata": {},
     "output_type": "execute_result"
    }
   ],
   "source": [
    "columnas_seleccionadas = ['TIPO_PROD_PROY_NUM', 'TIPO_ACT_OBRA_ACCINV_NUM', 'META','CANT_META_ANUAL','CANT_META_SEM','AVAN_FISICO_ANUAL',\n",
    "                          'AVAN_FISICO_SEM','SEC_FUNC','CATEGORIA_GASTO_NUM','MTO_PIA']\n",
    "\n",
    "\n",
    "                          \n",
    "\n",
    "# Crear un nuevo DataFrame con las columnas seleccionadas\n",
    "d_train_f = d_train[columnas_seleccionadas].copy()\n",
    "d_train_f"
   ]
  },
  {
   "cell_type": "code",
   "execution_count": 102,
   "metadata": {},
   "outputs": [],
   "source": [
    "def min_max_normalize_df(df):\n",
    "    df_normalized = df.copy()  \n",
    "    for col in df.columns:\n",
    "        maxval = df[col].max()\n",
    "        minval = df[col].min()\n",
    "        if maxval != minval:\n",
    "            df_normalized[col] = (df[col] - minval) / (maxval - minval)\n",
    "    return df_normalized"
   ]
  },
  {
   "cell_type": "code",
   "execution_count": 103,
   "metadata": {},
   "outputs": [],
   "source": [
    "def min_max_denormalize_series(series_normalized, series_original):\n",
    "    maxval = series_original.max()\n",
    "    minval = series_original.min()\n",
    "    series_denormalized = series_normalized * (maxval - minval) + minval\n",
    "    series_denormalized_rounded = series_denormalized.round().astype(int)  # Redondear y convertir a enteros\n",
    "    return series_denormalized_rounded"
   ]
  },
  {
   "cell_type": "code",
   "execution_count": 116,
   "metadata": {},
   "outputs": [],
   "source": [
    "\n",
    "d_train_n = min_max_normalize_df(d_train_f)\n",
    "\n",
    "x_train_n = d_train_n.iloc[:, :-1]\n",
    "y_train_n = d_train_n.iloc[:, -1]\n",
    "\n",
    "\n"
   ]
  },
  {
   "cell_type": "code",
   "execution_count": 117,
   "metadata": {},
   "outputs": [],
   "source": [
    "X_train, X_test, Y_train, Y_test = train_test_split(x_train_n,y_train_n , random_state=104, test_size=0.30, shuffle=True)"
   ]
  },
  {
   "cell_type": "code",
   "execution_count": 132,
   "metadata": {},
   "outputs": [
    {
     "name": "stdout",
     "output_type": "stream",
     "text": [
      "Loss value at epoch 0: 0.0027401099216163324\n",
      "Loss value at epoch 1000: 0.0025499246972701377\n",
      "Loss value at epoch 2000: 0.002541069385050677\n",
      "Loss value at epoch 3000: 0.0025374894415207032\n",
      "Loss value at epoch 4000: 0.002540014365117236\n",
      "Loss value at epoch 5000: 0.0025439657620467183\n",
      "Loss value at epoch 6000: 0.0025471627103290234\n",
      "Loss value at epoch 7000: 0.002549688448409513\n",
      "Loss value at epoch 8000: 0.0025516590698130854\n",
      "Loss value at epoch 9000: 0.0025531849397901455\n",
      "avg_mse:  0.0025489964794927268\n"
     ]
    }
   ],
   "source": [
    "alfa = 0.01\n",
    "umbral = 10000  # Número de épocas\n",
    "lam = 0.001\n",
    "\n",
    "\n",
    "\n",
    "# Entrenar el modelo\n",
    "W, loss_values = train(X_train, Y_train, umbral, alfa,lam)  # Asegúrate de que lamda esté definido\n",
    "\n",
    "# Mostrar el promedio del error cuadrático medio\n",
    "avg_mse = np.mean(loss_values)\n",
    "print(\"avg_mse: \", avg_mse)"
   ]
  },
  {
   "cell_type": "code",
   "execution_count": 133,
   "metadata": {},
   "outputs": [
    {
     "data": {
      "image/png": "[encoded data removed]",
      "text/plain": [
       "<Figure size 640x480 with 1 Axes>"
      ]
     },
     "metadata": {},
     "output_type": "display_data"
    }
   ],
   "source": [
    "data = {'Época': range(len(loss_values)), 'Error cuadrático medio': loss_values}\n",
    "df_loss = pd.DataFrame(data)\n",
    "\n",
    "# Graficar los errores durante el entrenamiento con Seaborn\n",
    "sns.lineplot(data=df_loss, x='Época', y='Error cuadrático medio')\n",
    "plt.xlabel('Época')\n",
    "plt.ylabel('Error cuadrático medio')\n",
    "plt.title('Errores durante el entrenamiento')\n",
    "plt.show()"
   ]
  },
  {
   "cell_type": "code",
   "execution_count": 135,
   "metadata": {},
   "outputs": [],
   "source": [
    "d_test =  pd.read_csv(\"test_final.csv\")"
   ]
  },
  {
   "cell_type": "code",
   "execution_count": 136,
   "metadata": {},
   "outputs": [
    {
     "name": "stdout",
     "output_type": "stream",
     "text": [
      "[1 2]\n",
      "['3.PRODUCTO' '2.PROYECTO']\n"
     ]
    }
   ],
   "source": [
    "tipos_unicos = d_test['TIPO_PROD_PROY'].unique()\n",
    "mapeo = {tipo: indice + 1 for indice, tipo in enumerate(tipos_unicos)}\n",
    "d_test['TIPO_PROD_PROY_NUM'] = d_test['TIPO_PROD_PROY'].map(mapeo)\n",
    "\n",
    "print(d_test['TIPO_PROD_PROY_NUM'].unique())\n",
    "print(tipos_unicos)"
   ]
  },
  {
   "cell_type": "code",
   "execution_count": 137,
   "metadata": {},
   "outputs": [
    {
     "name": "stdout",
     "output_type": "stream",
     "text": [
      "[1 2]\n",
      "['5.ACTIVIDAD' '6.ACCION DE INVERSION']\n"
     ]
    }
   ],
   "source": [
    "tipos_unicos = d_test['TIPO_ACT_OBRA_ACCINV'].unique()\n",
    "mapeo = {tipo: indice + 1 for indice, tipo in enumerate(tipos_unicos)}\n",
    "d_test['TIPO_ACT_OBRA_ACCINV_NUM'] = d_test['TIPO_ACT_OBRA_ACCINV'].map(mapeo)\n",
    "\n",
    "print(d_test['TIPO_ACT_OBRA_ACCINV_NUM'].unique())\n",
    "print(tipos_unicos)"
   ]
  },
  {
   "cell_type": "code",
   "execution_count": 138,
   "metadata": {},
   "outputs": [
    {
     "name": "stdout",
     "output_type": "stream",
     "text": [
      "[1 2]\n",
      "['5.GASTOS CORRIENTES' '6.GASTOS DE CAPITAL']\n"
     ]
    }
   ],
   "source": [
    "tipos_unicos = d_test['CATEGORIA_GASTO'].unique()\n",
    "mapeo = {tipo: indice + 1 for indice, tipo in enumerate(tipos_unicos)}\n",
    "d_test['CATEGORIA_GASTO_NUM'] = d_test['CATEGORIA_GASTO'].map(mapeo)\n",
    "\n",
    "print(d_test['CATEGORIA_GASTO_NUM'].unique())\n",
    "print(tipos_unicos)"
   ]
  },
  {
   "cell_type": "code",
   "execution_count": 139,
   "metadata": {},
   "outputs": [
    {
     "data": {
      "text/html": [
       "<div>\n",
       "<style scoped>\n",
       "    .dataframe tbody tr th:only-of-type {\n",
       "        vertical-align: middle;\n",
       "    }\n",
       "\n",
       "    .dataframe tbody tr th {\n",
       "        vertical-align: top;\n",
       "    }\n",
       "\n",
       "    .dataframe thead th {\n",
       "        text-align: right;\n",
       "    }\n",
       "</style>\n",
       "<table border=\"1\" class=\"dataframe\">\n",
       "  <thead>\n",
       "    <tr style=\"text-align: right;\">\n",
       "      <th></th>\n",
       "      <th>TIPO_PROD_PROY_NUM</th>\n",
       "      <th>TIPO_ACT_OBRA_ACCINV_NUM</th>\n",
       "      <th>META</th>\n",
       "      <th>CANT_META_ANUAL</th>\n",
       "      <th>CANT_META_SEM</th>\n",
       "      <th>AVAN_FISICO_ANUAL</th>\n",
       "      <th>AVAN_FISICO_SEM</th>\n",
       "      <th>SEC_FUNC</th>\n",
       "      <th>CATEGORIA_GASTO_NUM</th>\n",
       "    </tr>\n",
       "  </thead>\n",
       "  <tbody>\n",
       "    <tr>\n",
       "      <th>0</th>\n",
       "      <td>1</td>\n",
       "      <td>1</td>\n",
       "      <td>5</td>\n",
       "      <td>0</td>\n",
       "      <td>0</td>\n",
       "      <td>0</td>\n",
       "      <td>0</td>\n",
       "      <td>39</td>\n",
       "      <td>1</td>\n",
       "    </tr>\n",
       "    <tr>\n",
       "      <th>1</th>\n",
       "      <td>1</td>\n",
       "      <td>1</td>\n",
       "      <td>11</td>\n",
       "      <td>0</td>\n",
       "      <td>0</td>\n",
       "      <td>0</td>\n",
       "      <td>0</td>\n",
       "      <td>32</td>\n",
       "      <td>1</td>\n",
       "    </tr>\n",
       "    <tr>\n",
       "      <th>2</th>\n",
       "      <td>1</td>\n",
       "      <td>1</td>\n",
       "      <td>8</td>\n",
       "      <td>0</td>\n",
       "      <td>0</td>\n",
       "      <td>0</td>\n",
       "      <td>0</td>\n",
       "      <td>29</td>\n",
       "      <td>1</td>\n",
       "    </tr>\n",
       "    <tr>\n",
       "      <th>3</th>\n",
       "      <td>1</td>\n",
       "      <td>1</td>\n",
       "      <td>8</td>\n",
       "      <td>0</td>\n",
       "      <td>0</td>\n",
       "      <td>0</td>\n",
       "      <td>0</td>\n",
       "      <td>29</td>\n",
       "      <td>1</td>\n",
       "    </tr>\n",
       "    <tr>\n",
       "      <th>4</th>\n",
       "      <td>1</td>\n",
       "      <td>1</td>\n",
       "      <td>5</td>\n",
       "      <td>0</td>\n",
       "      <td>0</td>\n",
       "      <td>0</td>\n",
       "      <td>0</td>\n",
       "      <td>12</td>\n",
       "      <td>1</td>\n",
       "    </tr>\n",
       "    <tr>\n",
       "      <th>...</th>\n",
       "      <td>...</td>\n",
       "      <td>...</td>\n",
       "      <td>...</td>\n",
       "      <td>...</td>\n",
       "      <td>...</td>\n",
       "      <td>...</td>\n",
       "      <td>...</td>\n",
       "      <td>...</td>\n",
       "      <td>...</td>\n",
       "    </tr>\n",
       "    <tr>\n",
       "      <th>9610</th>\n",
       "      <td>1</td>\n",
       "      <td>1</td>\n",
       "      <td>1</td>\n",
       "      <td>0</td>\n",
       "      <td>0</td>\n",
       "      <td>0</td>\n",
       "      <td>0</td>\n",
       "      <td>3</td>\n",
       "      <td>1</td>\n",
       "    </tr>\n",
       "    <tr>\n",
       "      <th>9611</th>\n",
       "      <td>1</td>\n",
       "      <td>1</td>\n",
       "      <td>3</td>\n",
       "      <td>0</td>\n",
       "      <td>0</td>\n",
       "      <td>0</td>\n",
       "      <td>0</td>\n",
       "      <td>5</td>\n",
       "      <td>1</td>\n",
       "    </tr>\n",
       "    <tr>\n",
       "      <th>9612</th>\n",
       "      <td>1</td>\n",
       "      <td>1</td>\n",
       "      <td>4</td>\n",
       "      <td>0</td>\n",
       "      <td>0</td>\n",
       "      <td>0</td>\n",
       "      <td>0</td>\n",
       "      <td>36</td>\n",
       "      <td>1</td>\n",
       "    </tr>\n",
       "    <tr>\n",
       "      <th>9613</th>\n",
       "      <td>1</td>\n",
       "      <td>1</td>\n",
       "      <td>4</td>\n",
       "      <td>0</td>\n",
       "      <td>0</td>\n",
       "      <td>0</td>\n",
       "      <td>0</td>\n",
       "      <td>36</td>\n",
       "      <td>1</td>\n",
       "    </tr>\n",
       "    <tr>\n",
       "      <th>9614</th>\n",
       "      <td>1</td>\n",
       "      <td>1</td>\n",
       "      <td>15</td>\n",
       "      <td>0</td>\n",
       "      <td>0</td>\n",
       "      <td>0</td>\n",
       "      <td>0</td>\n",
       "      <td>22</td>\n",
       "      <td>1</td>\n",
       "    </tr>\n",
       "  </tbody>\n",
       "</table>\n",
       "<p>9615 rows × 9 columns</p>\n",
       "</div>"
      ],
      "text/plain": [
       "      TIPO_PROD_PROY_NUM  TIPO_ACT_OBRA_ACCINV_NUM  META  CANT_META_ANUAL  \\\n",
       "0                      1                         1     5                0   \n",
       "1                      1                         1    11                0   \n",
       "2                      1                         1     8                0   \n",
       "3                      1                         1     8                0   \n",
       "4                      1                         1     5                0   \n",
       "...                  ...                       ...   ...              ...   \n",
       "9610                   1                         1     1                0   \n",
       "9611                   1                         1     3                0   \n",
       "9612                   1                         1     4                0   \n",
       "9613                   1                         1     4                0   \n",
       "9614                   1                         1    15                0   \n",
       "\n",
       "      CANT_META_SEM  AVAN_FISICO_ANUAL  AVAN_FISICO_SEM  SEC_FUNC  \\\n",
       "0                 0                  0                0        39   \n",
       "1                 0                  0                0        32   \n",
       "2                 0                  0                0        29   \n",
       "3                 0                  0                0        29   \n",
       "4                 0                  0                0        12   \n",
       "...             ...                ...              ...       ...   \n",
       "9610              0                  0                0         3   \n",
       "9611              0                  0                0         5   \n",
       "9612              0                  0                0        36   \n",
       "9613              0                  0                0        36   \n",
       "9614              0                  0                0        22   \n",
       "\n",
       "      CATEGORIA_GASTO_NUM  \n",
       "0                       1  \n",
       "1                       1  \n",
       "2                       1  \n",
       "3                       1  \n",
       "4                       1  \n",
       "...                   ...  \n",
       "9610                    1  \n",
       "9611                    1  \n",
       "9612                    1  \n",
       "9613                    1  \n",
       "9614                    1  \n",
       "\n",
       "[9615 rows x 9 columns]"
      ]
     },
     "execution_count": 139,
     "metadata": {},
     "output_type": "execute_result"
    }
   ],
   "source": [
    "columnas_seleccionadas = ['TIPO_PROD_PROY_NUM', 'TIPO_ACT_OBRA_ACCINV_NUM', 'META','CANT_META_ANUAL','CANT_META_SEM','AVAN_FISICO_ANUAL',\n",
    "                          'AVAN_FISICO_SEM','SEC_FUNC','CATEGORIA_GASTO_NUM']\n",
    "# columnas_seleccionadas = [  'META',\n",
    "#                           'AVAN_FISICO_SEM']\n",
    "                          \n",
    "\n",
    "# Crear un nuevo DataFrame con las columnas seleccionadas\n",
    "d_test_f = d_test[columnas_seleccionadas].copy()\n",
    "d_test_f"
   ]
  },
  {
   "cell_type": "code",
   "execution_count": 140,
   "metadata": {},
   "outputs": [
    {
     "name": "stdout",
     "output_type": "stream",
     "text": [
      "[0.00255971 0.00148264 0.00152183 ... 0.00241913 0.00241913 0.00035488]\n"
     ]
    }
   ],
   "source": [
    "\n",
    "d_test_n = min_max_normalize_df(d_test_f)\n",
    "\n",
    "\n",
    "mse = h(d_test_n, W)\n",
    "\n",
    "\n",
    "df_results = pd.DataFrame({'ID': range(1, len(mse) + 1), 'MTO_PIA': mse})\n",
    "\n",
    "\n",
    "mse_denormalized = min_max_denormalize_series(df_results['MTO_PIA'], d_train_f['MTO_PIA'])\n",
    "mse_denormalized_int = mse_denormalized.round().astype(int)\n",
    "\n",
    "\n",
    "df_final = pd.DataFrame({'ID': range(1, len(mse_denormalized_int) + 1), 'MTO_PIA': mse_denormalized_int})\n",
    "\n",
    "\n",
    "df_final.to_csv('G10_Result_lasso.csv', index=False)\n",
    "\n",
    "print(mse)"
   ]
  },
  {
   "cell_type": "code",
   "execution_count": 134,
   "metadata": {},
   "outputs": [
    {
     "data": {
      "image/png": "[encoded data removed]",
      "text/plain": [
       "<Figure size 1000x600 with 1 Axes>"
      ]
     },
     "metadata": {},
     "output_type": "display_data"
    }
   ],
   "source": [
    "mse_test = h(X_test, W)\n",
    "df_results_test = pd.DataFrame({'ID': range(1, len(mse_test) + 1), 'MTO_PIA': mse_test})\n",
    "mse_denormalized_test = min_max_denormalize_series(df_results_test['MTO_PIA'], d_train_f['MTO_PIA'])\n",
    "mse_denormalized_int_test = mse_denormalized_test.round().astype(int)\n",
    "df_final_test = pd.DataFrame({'ID': range(1, len(mse_denormalized_int_test) + 1), 'MTO_PIA': mse_denormalized_int_test})\n",
    "\n",
    "df_comparison = pd.DataFrame({'ID': range(1, len(Y_test) + 1), 'Real': Y_test.values, 'Predicho': mse_test})\n",
    "\n",
    "\n",
    "plt.figure(figsize=(10, 6))\n",
    "sns.scatterplot(data=df_comparison, x='ID', y='Real', label='Real')\n",
    "sns.scatterplot(data=df_comparison, x='ID', y='Predicho', label='Predicho')\n",
    "plt.xlabel('ID')\n",
    "plt.ylabel('Valor')\n",
    "plt.title('Comparación entre Valores Reales y Predichos en el Conjunto de Prueba')\n",
    "plt.legend()\n",
    "plt.show()"
   ]
  }
 ],
 "metadata": {
  "kernelspec": {
   "display_name": "base",
   "language": "python",
   "name": "python3"
  },
  "language_info": {
   "codemirror_mode": {
    "name": "ipython",
    "version": 3
   },
   "file_extension": ".py",
   "mimetype": "text/x-python",
   "name": "python",
   "nbconvert_exporter": "python",
   "pygments_lexer": "ipython3",
   "version": "3.11.0"
  }
 },
 "nbformat": 4,
 "nbformat_minor": 2
}
